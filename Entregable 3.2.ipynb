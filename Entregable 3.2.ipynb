{
 "cells": [
  {
   "cell_type": "markdown",
   "id": "7283a721",
   "metadata": {},
   "source": [
    "# Implementación de Transformers para Procesamiento de Lenguaje Natural (NLP)"
   ]
  },
  {
   "cell_type": "markdown",
   "id": "6422d1ff",
   "metadata": {},
   "source": [
    "\n",
    "### Objetivo\n",
    "En esta evaluación, implementaremos un modelo basado en arquitecturas de Transformers para una tarea de procesamiento de lenguaje natural (NLP), utilizando el dataset **DailyDialog**. Este conjunto de datos de diálogos permite que el modelo practique en generación de texto y comprensión de contexto en interacciones cotidianas.\n",
    "\n",
    "Usaremos TensorFlow para construir un modelo transformer básico con las siguientes características:\n",
    "- **Encoder-Decoder**: para procesar la entrada y generar salida secuencial.\n",
    "- **Atención Multi-cabezal**: para capturar dependencias a largo plazo en el diálogo.\n",
    "\n",
    "Al final, evaluaremos el modelo utilizando métricas específicas de NLP, como BLEU o ROUGE.\n"
   ]
  },
  {
   "cell_type": "markdown",
   "id": "bca5997e",
   "metadata": {},
   "source": [
    "## 1. Carga y Exploración del Dataset: DailyDialog"
   ]
  },
  {
   "cell_type": "code",
   "execution_count": null,
   "id": "8a63cf22",
   "metadata": {},
   "outputs": [],
   "source": [
    "\n",
    "# Import necessary libraries\n",
    "import tensorflow_datasets as tfds\n",
    "\n",
    "# Cargar el dataset DailyDialog\n",
    "dataset, info = tfds.load(\"daily_dialog\", with_info=True, as_supervised=True)\n",
    "\n",
    "# Dividir en entrenamiento y prueba\n",
    "train_data, test_data = dataset['train'], dataset['test']\n",
    "\n",
    "# Mostrar un ejemplo de datos\n",
    "for example in train_data.take(1):\n",
    "    print(\"Ejemplo de diálogo:\", example[0].numpy().decode('utf-8'))\n",
    "    print(\"Etiqueta:\", example[1].numpy())\n",
    "    \n",
    "# Mostrar información del dataset\n",
    "print(info)\n"
   ]
  },
  {
   "cell_type": "markdown",
   "id": "5f66d32a",
   "metadata": {},
   "source": [
    "## 2. Implementación del Modelo Transformer"
   ]
  },
  {
   "cell_type": "code",
   "execution_count": null,
   "id": "f19fa87a",
   "metadata": {},
   "outputs": [],
   "source": [
    "\n",
    "# Importar librerías necesarias para el modelo\n",
    "import tensorflow as tf\n",
    "from tensorflow.keras.layers import Input, Dense, Embedding, MultiHeadAttention, LayerNormalization, Dropout\n",
    "\n",
    "# Función para construir el encoder del transformer\n",
    "def transformer_encoder(input_shape, num_heads, ff_dim):\n",
    "    inputs = Input(shape=input_shape)\n",
    "    attention = MultiHeadAttention(num_heads=num_heads, key_dim=input_shape[-1])(inputs, inputs)\n",
    "    attention = Dropout(0.1)(attention)\n",
    "    attention = LayerNormalization(epsilon=1e-6)(attention + inputs)\n",
    "\n",
    "    outputs = Dense(ff_dim, activation='relu')(attention)\n",
    "    outputs = Dense(input_shape[-1])(outputs)\n",
    "    return LayerNormalization(epsilon=1e-6)(outputs + attention)\n",
    "\n",
    "# Construcción de un transformer básico con encoder-decoder y atención multi-cabezal\n",
    "# La arquitectura completa incluiría un decoder para las tareas de generación\n"
   ]
  },
  {
   "cell_type": "markdown",
   "id": "31c5e26e",
   "metadata": {},
   "source": [
    "## 3. Entrenamiento del Modelo"
   ]
  },
  {
   "cell_type": "code",
   "execution_count": null,
   "id": "a49a99a6",
   "metadata": {},
   "outputs": [],
   "source": [
    "\n",
    "# Configuración de hiperparámetros\n",
    "batch_size = 64\n",
    "epochs = 10\n",
    "learning_rate = 0.001\n",
    "\n",
    "# Compilación y entrenamiento del modelo\n",
    "# model.compile(optimizer=tf.keras.optimizers.Adam(learning_rate=learning_rate),\n",
    "#               loss='categorical_crossentropy', metrics=['accuracy'])\n",
    "\n",
    "# model.fit(train_data, validation_data=test_data, epochs=epochs)\n"
   ]
  },
  {
   "cell_type": "markdown",
   "id": "44608fb6",
   "metadata": {},
   "source": [
    "## 4. Evaluación del Modelo"
   ]
  },
  {
   "cell_type": "code",
   "execution_count": null,
   "id": "2bfcfbc3",
   "metadata": {},
   "outputs": [],
   "source": [
    "\n",
    "from nltk.translate.bleu_score import sentence_bleu\n",
    "\n",
    "# Ejemplo de evaluación del modelo usando BLEU o ROUGE\n",
    "# predictions = model.predict(test_data)\n",
    "# print(\"BLEU Score:\", sentence_bleu(reference_sentences, predictions))\n"
   ]
  },
  {
   "cell_type": "markdown",
   "id": "c9642c36",
   "metadata": {},
   "source": [
    "## 5. Ajuste de Hiperparámetros"
   ]
  },
  {
   "cell_type": "code",
   "execution_count": null,
   "id": "197491c9",
   "metadata": {},
   "outputs": [],
   "source": [
    "\n",
    "# Probar diferentes configuraciones de hiperparámetros\n",
    "# Ejemplo: modificar num_heads, ff_dim, número de capas\n",
    "\n",
    "# Documentar los resultados y evaluar cada configuración\n",
    "# for num_heads in [2, 4, 8]:\n",
    "#     for ff_dim in [32, 64, 128]:\n",
    "#         # Redefinir y entrenar modelo con nuevos hiperparámetros\n",
    "#         # Registrar métricas y comparar rendimiento\n"
   ]
  },
  {
   "cell_type": "markdown",
   "id": "385dac70",
   "metadata": {},
   "source": [
    "## 6. Presentación de Resultados y Conclusiones"
   ]
  },
  {
   "cell_type": "markdown",
   "id": "54d3e402",
   "metadata": {},
   "source": [
    "\n",
    "En esta sección, resumiremos los resultados obtenidos, mostrando cómo los ajustes de los hiperparámetros impactaron en el rendimiento del modelo.\n",
    "- **Resultados Finales**: Comparación de BLEU, ROUGE, y otras métricas para cada configuración.\n",
    "- **Conclusiones**: Reflexión sobre el proceso, dificultades encontradas y aprendizajes obtenidos.\n",
    "\n",
    "¡Gracias por revisar nuestro proyecto! Esperamos que esta implementación demuestre nuestro dominio en el uso de transformers para NLP.\n"
   ]
  }
 ],
 "metadata": {},
 "nbformat": 4,
 "nbformat_minor": 5
}
